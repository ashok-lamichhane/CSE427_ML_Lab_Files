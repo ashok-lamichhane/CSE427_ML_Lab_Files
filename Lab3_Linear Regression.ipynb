{
  "nbformat": 4,
  "nbformat_minor": 0,
  "metadata": {
    "colab": {
      "provenance": []
    },
    "kernelspec": {
      "name": "python3",
      "display_name": "Python 3"
    },
    "language_info": {
      "name": "python"
    }
  },
  "cells": [
    {
      "cell_type": "code",
      "execution_count": 1,
      "metadata": {
        "id": "6KXuj72_NCjy"
      },
      "outputs": [],
      "source": [
        "# Importing libraries\n",
        "\n",
        "import numpy as np\n",
        "import pandas as pd\n",
        "import matplotlib.pyplot as plt\n",
        "\n",
        "from sklearn.model_selection import train_test_split\n",
        "from sklearn.linear_model import LinearRegression,Ridge,Lasso,ElasticNet\n",
        "from sklearn.model_selection import train_test_split\n",
        "from sklearn.metrics import r2_score\n",
        "\n",
        "# ignore the warning messages\n",
        "import warnings\n",
        "warnings.filterwarnings('ignore')"
      ]
    },
    {
      "cell_type": "markdown",
      "source": [
        "#Exploratory Data Analysis (EDA)\n",
        "\n",
        "**Salary Dataset**\n",
        "- **YearsExperience:** Employee's years of experience.\n",
        "- **Salary [Target Column]:** Salary in terms of years of experience.\n",
        "\n",
        "\n"
      ],
      "metadata": {
        "id": "JhAolZaRNQgh"
      }
    },
    {
      "cell_type": "code",
      "source": [
        "# Importing dataset\n",
        "file_link = 'https://drive.google.com/file/d/1z_7EFfGJ42o0JCklJz0K77NTzPa-QynQ/view?usp=sharing'\n",
        "\n",
        "# get the id part of the file\n",
        "id = file_link.split(\"/\")[-2]\n",
        "\n",
        "# creating a new link using the id for better readability of csv file in pandas\n",
        "new_link = f'https://drive.google.com/uc?id={id}'\n",
        "df = pd.read_csv(new_link)\n",
        "\n",
        "\n",
        "X = df.iloc[:,:-1].values\n",
        "Y = df.iloc[:,1].values\n",
        "\n",
        "# Splitting dataset into train and test set\n",
        "\n",
        "X_train, X_test, y_train, y_test = train_test_split( X, Y, test_size = 1/3, random_state = 2 )\n",
        "\n",
        "\n",
        "# Linear Regression\n",
        "reg = LinearRegression()\n",
        "reg.fit(X_train,y_train)\n",
        "y_pred = reg.predict(X_test)\n",
        "print(r2_score(y_test,y_pred))\n",
        "\n",
        "# Ridge\n",
        "reg = Ridge(alpha=0.1)\n",
        "reg.fit(X_train,y_train)\n",
        "y_pred = reg.predict(X_test)\n",
        "print(r2_score(y_test,y_pred))\n",
        "\n",
        "# Lasso\n",
        "reg = Lasso(alpha=0.01)\n",
        "reg.fit(X_train,y_train)\n",
        "y_pred = reg.predict(X_test)\n",
        "print(r2_score(y_test,y_pred))\n",
        "\n",
        "# ElasticNet\n",
        "#alpha = mult, l1_ratio = sum or combination\n",
        "reg = ElasticNet(alpha=0.01,l1_ratio=0.9)\n",
        "reg.fit(X_train,y_train)\n",
        "y_pred = reg.predict(X_test)\n",
        "print(r2_score(y_test,y_pred))\n",
        "\n"
      ],
      "metadata": {
        "colab": {
          "base_uri": "https://localhost:8080/"
        },
        "id": "w1JBuTAQOEg6",
        "outputId": "7eea0f4f-58d2-42e1-9e15-c11af9985c4e"
      },
      "execution_count": 2,
      "outputs": [
        {
          "output_type": "stream",
          "name": "stdout",
          "text": [
            "0.9041801644162628\n",
            "0.9042534117787511\n",
            "0.9041801799163933\n",
            "0.904194904373961\n"
          ]
        }
      ]
    },
    {
      "cell_type": "code",
      "source": [
        "# Elastic Net Regression\n",
        "\n",
        "class ElasticRegression() :\n",
        "\n",
        "    def __init__( self, learning_rate, iterations, l1_penality, l2_penality ) :\n",
        "\n",
        "        self.learning_rate = learning_rate\n",
        "\n",
        "        self.iterations = iterations\n",
        "\n",
        "        self.l1_penality = l1_penality\n",
        "\n",
        "        self.l2_penality = l2_penality\n",
        "\n",
        "    # Function for model training\n",
        "    def fit( self, X, Y ) :\n",
        "\n",
        "        # no_of_training_examples, no_of_features\n",
        "\n",
        "        self.m, self.n = X.shape\n",
        "\n",
        "        # weight initialization\n",
        "\n",
        "        self.W = np.zeros( self.n )\n",
        "\n",
        "        self.b = 0\n",
        "\n",
        "        self.X = X\n",
        "\n",
        "        self.Y = Y\n",
        "\n",
        "\n",
        "        # gradient descent learning\n",
        "        # use update_weights method to update weights in self.iterations\n",
        "        for _ in range(self.iterations):\n",
        "          self.update_weights()\n",
        "        return self\n",
        "\n",
        "\n",
        "    # Helper function to update weights in gradient descent\n",
        "    def update_weights(self):\n",
        "      dW = np.zeros(self.n)\n",
        "      db = 0\n",
        "      Y_pred = self.predict(self.X)\n",
        "\n",
        "      for j in range(self.n):  # Iterate over features, not training examples\n",
        "          dW[j] = (-2 * np.dot(self.X[:, j], self.Y - Y_pred) + 2 * self.l2_penality * self.W[j] + self.l1_penality * np.sign(self.W[j])) / self.m\n",
        "\n",
        "      db += (2 / self.m) * np.sum(Y_pred - self.Y)\n",
        "\n",
        "      self.W -= self.learning_rate * dW\n",
        "      self.b -= self.learning_rate * db\n",
        "\n",
        "      return self\n",
        "\n",
        "\n",
        "\n",
        "    # Hypothetical function  h( x )\n",
        "\n",
        "    def predict( self, X ) :\n",
        "\n",
        "        return X.dot( self.W ) + self.b\n",
        "# Model training\n",
        "model = ElasticRegression( iterations = 1000,  learning_rate = 0.01, l1_penality = 500, l2_penality = 1 )\n",
        "model.fit( X_train, y_train )\n",
        "# Prediction on test set\n",
        "Y_pred = model.predict( X_test )\n",
        "\n",
        "print( \"Predicted values \", np.round( Y_pred[:3], 2 ) )\n",
        "\n",
        "print( \"Real values      \", y_test[:3] )\n",
        "\n",
        "print( \"Trained W        \", round( model.W[0], 2 ) )\n",
        "\n",
        "print( \"Trained b        \", round( model.b, 2 ) )\n",
        "\n",
        "# Visualization on test set\n",
        "\n",
        "plt.scatter( X_test, y_test, color = 'blue' )\n",
        "\n",
        "plt.plot( X_test, Y_pred, color = 'orange' )\n",
        "\n",
        "plt.title( 'Salary vs Experience' )\n",
        "\n",
        "plt.xlabel( 'Years of Experience' )\n",
        "\n",
        "plt.ylabel( 'Salary' )\n",
        "\n",
        "plt.show()"
      ],
      "metadata": {
        "colab": {
          "base_uri": "https://localhost:8080/",
          "height": 541
        },
        "id": "7gihQyGKUt3q",
        "outputId": "337dc81c-c2e7-4c0b-d371-5e00a5d52684"
      },
      "execution_count": 3,
      "outputs": [
        {
          "output_type": "stream",
          "name": "stdout",
          "text": [
            "Predicted values  [35951.54 34047.56 66415.21]\n",
            "Real values       [46205. 39343. 61111.]\n",
            "Trained W         9519.9\n",
            "Trained b         23575.68\n"
          ]
        },
        {
          "output_type": "display_data",
          "data": {
            "text/plain": [
              "<Figure size 640x480 with 1 Axes>"
            ],
            "image/png": "[encoded data removed]"
          },
          "metadata": {}
        }
      ]
    },
    {
      "cell_type": "code",
      "source": [],
      "metadata": {
        "id": "p9ZVmoW7hqv7"
      },
      "execution_count": 3,
      "outputs": []
    }
  ]
}